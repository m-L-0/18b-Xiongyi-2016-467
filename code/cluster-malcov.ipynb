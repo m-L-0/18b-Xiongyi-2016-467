{
 "cells": [
  {
   "cell_type": "code",
   "execution_count": null,
   "metadata": {},
   "outputs": [],
   "source": [
    "'''\n",
    "利用马尔可夫聚类\n",
    "熊毅\n",
    "2016011467\n",
    "'''"
   ]
  },
  {
   "cell_type": "markdown",
   "metadata": {},
   "source": [
    "### 数据载入"
   ]
  },
  {
   "cell_type": "code",
   "execution_count": 9,
   "metadata": {},
   "outputs": [],
   "source": [
    "import numpy as np\n",
    "from matplotlib import pyplot as plt\n",
    "from sklearn import datasets\n",
    "import pandas as pd\n",
    "\n",
    "iris = datasets.load_iris()\n",
    "\n",
    "\n",
    "iris1 = pd.DataFrame(iris.data)\n",
    "iris1['target'] = iris.target\n",
    "iris1.columns = ['1',\n",
    " '2',\n",
    " '3',\n",
    " '4','y']\n",
    "iris1['yp']=0   #预测列"
   ]
  },
  {
   "cell_type": "markdown",
   "metadata": {},
   "source": [
    "### 马尔可夫—邻接矩阵收敛"
   ]
  },
  {
   "cell_type": "code",
   "execution_count": 10,
   "metadata": {},
   "outputs": [
    {
     "data": {
      "text/plain": [
       "array([[3.63717615e-07, 6.88782034e-07, 5.58805740e-07, ...,\n",
       "        9.38692955e-03, 1.15567214e-02, 6.32633940e-03],\n",
       "       [3.63717615e-07, 6.88782034e-07, 5.58805740e-07, ...,\n",
       "        9.38692955e-03, 1.15567214e-02, 6.32633940e-03],\n",
       "       [3.63717615e-07, 6.88782034e-07, 5.58805740e-07, ...,\n",
       "        9.38692955e-03, 1.15567214e-02, 6.32633940e-03],\n",
       "       ...,\n",
       "       [1.94461855e-02, 2.03770325e-02, 2.38708858e-02, ...,\n",
       "        1.15520409e-05, 2.13353161e-05, 3.90621235e-05],\n",
       "       [1.94461855e-02, 2.03770325e-02, 2.38708858e-02, ...,\n",
       "        1.15520409e-05, 2.13353161e-05, 3.90621235e-05],\n",
       "       [1.94461855e-02, 2.03770325e-02, 2.38708858e-02, ...,\n",
       "        1.15520409e-05, 2.13353161e-05, 3.90621235e-05]])"
      ]
     },
     "execution_count": 10,
     "metadata": {},
     "output_type": "execute_result"
    }
   ],
   "source": [
    "adjacent_matrix = np.zeros((150,150))\n",
    "\n",
    "for i,v in iris1.iterrows():     #邻接矩阵\n",
    "    for i1,v1 in iris1.iterrows():\n",
    "        distance = 0\n",
    "        for i2 in range(4):\n",
    "            distance += np.square(v[i2]-v1[i2])\n",
    "        adjacent_matrix[i][i1] = np.sqrt(distance)\n",
    "      \n",
    "        \n",
    "mat = adjacent_matrix            #马尔可夫链\n",
    "def mat_normalizer(mat,expa):  \n",
    "    for i1 in range(expa):\n",
    "        mat = np.matmul(mat,adjacent_matrix)\n",
    "        mat = mat**5               #膨胀系数设为5\n",
    "        for i,v in enumerate(mat):\n",
    "            sum_dis = sum(v)\n",
    "            for i1 in range(150):\n",
    "                v[i1] = v[i1]/sum_dis  #归一化\n",
    "    return mat\n",
    "mat = mat_normalizer(mat,20)    #结果\n",
    "mat"
   ]
  },
  {
   "cell_type": "markdown",
   "metadata": {},
   "source": [
    "### 分类 "
   ]
  },
  {
   "cell_type": "code",
   "execution_count": 14,
   "metadata": {},
   "outputs": [
    {
     "name": "stdout",
     "output_type": "stream",
     "text": [
      "0.6333333333333333\n"
     ]
    }
   ],
   "source": [
    "#遍历每个样本，投票\n",
    "vote_matrix = np.zeros((150,150))  #每一行记录着结果矩阵中距离此点0.0001以内的点，并将节点记为1\n",
    "\n",
    "for i,v in enumerate(mat):\n",
    "    for i1,v1 in enumerate(v):\n",
    "        if v1<1/10000:\n",
    "            vote_matrix[i,i1]=1\n",
    "\n",
    "\n",
    "\n",
    "def vote():      \n",
    "    one_time = 0    #临近点的分类信息\n",
    "    two_time = 0\n",
    "    thr_time = 0\n",
    "    clas_mom = 1\n",
    "    new_class = 1\n",
    "    for i in range(150):\n",
    "        if sum(vote_matrix[:,i])>=45:     #有超过45个邻近点的点\n",
    "            for i1,v1 in enumerate(vote_matrix[:,i]):     #统计该点的临近点已有的分类信息\n",
    "                if v1 == 1:\n",
    "                    if iris1.iloc[i1][5] == 1:\n",
    "                        one_time+=1\n",
    "                    elif iris1.iloc[i1][5] == 2:\n",
    "                        two_time+=1\n",
    "                    elif iris1.iloc[i1][5] == 3:\n",
    "                        thr_time +=1\n",
    "#            print(one_time,two_time,thr_time)\n",
    "            if one_time > 35:                #若临近点有超过35个点属于第一类，则将该点的所有临近点标记为第一类\n",
    "                clas_mom =1\n",
    "            elif two_time >35:\n",
    "                clas_mom =2\n",
    "            elif thr_time >35:\n",
    "                clas_mom =3\n",
    "            elif (one_time+two_time+thr_time)<20:       #若该点的临近点标类总数少于20，则将该点的临近点标为一类\n",
    "                clas_mom = new_class\n",
    "                new_class +=1\n",
    "            else :\n",
    "                clas_mom = 0\n",
    "            if clas_mom != 0:\n",
    "                for i2,v2 in enumerate(vote_matrix[:,i]):\n",
    "                    if v2 ==1:\n",
    "                        iris1.iloc[i2,5] = clas_mom    #iris.iloc[i2][5]将视为一个深拷贝,无法改变其值\n",
    "        one_time = 0\n",
    "        two_time = 0\n",
    "        thr_time = 0\n",
    "\n",
    "vote()           \n",
    "    \n",
    "def acc():\n",
    "    sum_righ = 0\n",
    "    for i,v in iris1.iloc[:,[4,5]].iterrows():\n",
    "        if v[0] == (v[1]-1):\n",
    "            sum_righ +=1\n",
    "    return sum_righ/150\n",
    "\n",
    "print(acc())"
   ]
  },
  {
   "cell_type": "markdown",
   "metadata": {},
   "source": [
    "### 画图  原分类 "
   ]
  },
  {
   "cell_type": "code",
   "execution_count": 12,
   "metadata": {
    "scrolled": true
   },
   "outputs": [
    {
     "data": {
      "image/png": "[encoded data removed]",
      "text/plain": [
       "<matplotlib.figure.Figure at 0x1fa0eb7b7f0>"
      ]
     },
     "metadata": {},
     "output_type": "display_data"
    }
   ],
   "source": [
    "from time import time\n",
    "import numpy as np\n",
    "import matplotlib.pyplot as plt\n",
    "\n",
    "from sklearn import datasets\n",
    "from sklearn.manifold import TSNE\n",
    "\n",
    "\n",
    "def get_data():\n",
    "    digits = datasets.load_digits(n_class=6)\n",
    "    data = digits.data\n",
    "    label = digits.target\n",
    "    n_samples, n_features = data.shape\n",
    "    return data, label, n_samples, n_features\n",
    "\n",
    "\n",
    "def plot_embedding(data, label, title):\n",
    "    x_min, x_max = np.min(data, 0), np.max(data, 0)\n",
    "    data = (data - x_min) / (x_max - x_min)\n",
    "\n",
    "    fig = plt.figure()\n",
    "    ax = plt.subplot(111)\n",
    "    for i in range(data.shape[0]):\n",
    "        plt.text(data[i, 0], data[i, 1], str(label[i]),\n",
    "                 color=plt.cm.Set1(label[i] / 10.),\n",
    "                 fontdict={'weight': 'bold', 'size': 9})\n",
    "    plt.xticks([])\n",
    "    plt.yticks([])\n",
    "    plt.title(title)\n",
    "    return fig\n",
    "\n",
    "\n",
    "\n",
    "\n",
    "tsne = TSNE(n_components=2, init='pca', random_state=0)\n",
    "t0 = time()\n",
    "result = tsne.fit_transform(iris.data)\n",
    "fig = plot_embedding(result, iris.target,\n",
    "                     't-SNE  (time %.2fs)'\n",
    "                     % (time() - t0))\n",
    "plt.show(fig)"
   ]
  },
  {
   "cell_type": "markdown",
   "metadata": {},
   "source": [
    "###  根据结果矩阵"
   ]
  },
  {
   "cell_type": "code",
   "execution_count": 13,
   "metadata": {},
   "outputs": [
    {
     "data": {
      "image/png": "[encoded data removed]",
      "text/plain": [
       "<matplotlib.figure.Figure at 0x1fa0ab99ba8>"
      ]
     },
     "metadata": {},
     "output_type": "display_data"
    }
   ],
   "source": [
    "tsne = TSNE(n_components=2, init='pca', random_state=0)\n",
    "t0 = time()\n",
    "result = tsne.fit_transform(mat)\n",
    "fig = plot_embedding(result, iris.target,\n",
    "                     't-SNE  (time %.2fs)'\n",
    "                     % (time() - t0))\n",
    "plt.show(fig)"
   ]
  }
 ],
 "metadata": {
  "kernelspec": {
   "display_name": "Python 3",
   "language": "python",
   "name": "python3"
  },
  "language_info": {
   "codemirror_mode": {
    "name": "ipython",
    "version": 3
   },
   "file_extension": ".py",
   "mimetype": "text/x-python",
   "name": "python",
   "nbconvert_exporter": "python",
   "pygments_lexer": "ipython3",
   "version": "3.6.6"
  }
 },
 "nbformat": 4,
 "nbformat_minor": 2
}
